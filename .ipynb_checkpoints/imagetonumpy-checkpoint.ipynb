{
 "cells": [
  {
   "cell_type": "code",
   "execution_count": null,
   "metadata": {},
   "outputs": [],
   "source": [
    "# Assignment\n",
    "# import any lib\n",
    "# resize the 20 imgs\n",
    "# save it in an array"
   ]
  },
  {
   "cell_type": "code",
   "execution_count": 20,
   "metadata": {},
   "outputs": [
    {
     "name": "stdout",
     "output_type": "stream",
     "text": [
      "Found directory: .\n",
      "\t06_oct_2019_admaji.ipynb\n",
      "\t22_9_2019.ipynb\n",
      "\tabc.npy\n",
      "\tabc.npz\n",
      "\tabd.npz\n",
      "\tairplane.png\n",
      "\timagetonumpy.ipynb\n",
      "\tnumpy.pptx\n",
      "\tPython for Data Analysis 2nd edition.pdf\n",
      "\tUntitled.ipynb\n",
      "Found directory: .\\.ipynb_checkpoints\n",
      "\t06_oct_2019_admaji-checkpoint.ipynb\n",
      "\timagetonumpy-checkpoint.ipynb\n",
      "\tSir Anees 22-Sep-2019-checkpoint.ipynb\n",
      "\tUntitled-checkpoint.ipynb\n"
     ]
    }
   ],
   "source": [
    "# Import the os module, for the os.walk function\n",
    "import os\n",
    "\n",
    "# Set the directory you want to start from\n",
    "rootDir = '.'\n",
    "for dirName, subdirList, fileList in os.walk(rootDir):\n",
    "    print('Found directory: %s' % dirName)\n",
    "    #print(fileList)\n",
    "    for fname in fileList:\n",
    "        print('\\t%s' % fname)"
   ]
  },
  {
   "cell_type": "code",
   "execution_count": 14,
   "metadata": {},
   "outputs": [
    {
     "name": "stdout",
     "output_type": "stream",
     "text": [
      "<class 'numpy.ndarray'>\n",
      "(512, 512, 3)\n"
     ]
    }
   ],
   "source": [
    "import numpy as np\n",
    "import matplotlib.pylab as plt\n",
    "photos = np.zeros([20,512,512,3])\n",
    "for i in range(1):\n",
    "    im = plt.imread(\"airplane.png\")\n",
    "    print(type(im))\n",
    "    print(im.shape)\n",
    "    #print(im[:2, :2, :2])\n",
    "    \n",
    "    photos[i] = im\n"
   ]
  },
  {
   "cell_type": "code",
   "execution_count": null,
   "metadata": {},
   "outputs": [],
   "source": []
  },
  {
   "cell_type": "code",
   "execution_count": null,
   "metadata": {},
   "outputs": [],
   "source": []
  },
  {
   "cell_type": "code",
   "execution_count": null,
   "metadata": {},
   "outputs": [],
   "source": []
  }
 ],
 "metadata": {
  "kernelspec": {
   "display_name": "Python 3",
   "language": "python",
   "name": "python3"
  },
  "language_info": {
   "codemirror_mode": {
    "name": "ipython",
    "version": 3
   },
   "file_extension": ".py",
   "mimetype": "text/x-python",
   "name": "python",
   "nbconvert_exporter": "python",
   "pygments_lexer": "ipython3",
   "version": "3.7.3"
  }
 },
 "nbformat": 4,
 "nbformat_minor": 2
}
